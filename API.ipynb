{
 "cells": [
  {
   "cell_type": "markdown",
   "metadata": {},
   "source": [
    "# Recipe Search API Documentation\n",
    "\n",
    "This notebook demonstrates the usage of the Recipe Search API endpoints and their functionality.\n",
    "\n",
    "## API Base URL\n",
    "The API is accessible at: http://localhost:8000"
   ]
  },
  {
   "cell_type": "code",
   "execution_count": null,
   "metadata": {},
   "source": [
    "import requests\n",
    "import json\n",
    "\n",
    "BASE_URL = \"http://localhost:8000\""
   ]
  },
  {
   "cell_type": "markdown",
   "metadata": {},
   "source": [
    "## 1. Root Endpoint\n",
    "\n",
    "Check if the API is running:\n",
    "- **URL**: `/`\n",
    "- **Method**: GET\n",
    "- **Response**: Confirmation message"
   ]
  },
  {
   "cell_type": "code",
   "execution_count": null,
   "metadata": {},
   "source": [
    "response = requests.get(f\"{BASE_URL}/\")\n",
    "print(json.dumps(response.json(), indent=2))"
   ]
  },
  {
   "cell_type": "markdown",
   "metadata": {},
   "source": [
    "## 2. Available Search Methods\n",
    "\n",
    "Get list of available search methods:\n",
    "- **URL**: `/methods`\n",
    "- **Method**: GET\n",
    "- **Response**: List of supported search methods (BM25, Embedding, Simple)"
   ]
  },
  {
   "cell_type": "code",
   "execution_count": null,
   "metadata": {},
   "source": [
    "response = requests.get(f\"{BASE_URL}/methods\")\n",
    "print(json.dumps(response.json(), indent=2))"
   ]
  },
  {
   "cell_type": "markdown",
   "metadata": {},
   "source": [
    "## 3. Corpus Information\n",
    "\n",
    "Get information about the recipe corpus:\n",
    "- **URL**: `/corpus-info`\n",
    "- **Method**: GET\n",
    "- **Response**: Statistics about the recipe collection including:\n",
    "  - Total number of recipes\n",
    "  - Total tokens\n",
    "  - Average recipe length"
   ]
  },
  {
   "cell_type": "code",
   "execution_count": null,
   "metadata": {},
   "source": [
    "response = requests.get(f\"{BASE_URL}/corpus-info\")\n",
    "print(json.dumps(response.json(), indent=2))"
   ]
  },
  {
   "cell_type": "markdown",
   "metadata": {},
   "source": [
    "## 4. Search Endpoint\n",
    "\n",
    "Search for recipes using different methods:\n",
    "- **URL**: `/search`\n",
    "- **Method**: GET\n",
    "- **Parameters**:\n",
    "  - `query`: Search query string\n",
    "  - `method`: Search method (bm25, embedding, simple)\n",
    "  - `limit`: Maximum number of results (1-100)\n",
    "  - `include_scores`: Whether to include relevance scores (true/false)\n",
    "\n",
    "Let's try different search scenarios:"
   ]
  },
  {
   "cell_type": "markdown",
   "metadata": {},
   "source": [
    "### 4.1 Simple Search"
   ]
  },
  {
   "cell_type": "code",
   "execution_count": null,
   "metadata": {},
   "source": [
    "params = {\n",
    "    \"query\": \"chicken soup\",\n",
    "    \"method\": \"simple\",\n",
    "    \"limit\": 5\n",
    "}\n",
    "\n",
    "response = requests.get(f\"{BASE_URL}/search\", params=params)\n",
    "print(json.dumps(response.json(), indent=2))"
   ]
  },
  {
   "cell_type": "markdown",
   "metadata": {},
   "source": [
    "### 4.2 BM25 Search with Scores"
   ]
  },
  {
   "cell_type": "code",
   "execution_count": null,
   "metadata": {},
   "source": [
    "params = {\n",
    "    \"query\": \"vegetarian pasta\",\n",
    "    \"method\": \"bm25\",\n",
    "    \"limit\": 5,\n",
    "    \"include_scores\": True\n",
    "}\n",
    "\n",
    "response = requests.get(f\"{BASE_URL}/search\", params=params)\n",
    "print(json.dumps(response.json(), indent=2))"
   ]
  },
  {
   "cell_type": "markdown",
   "metadata": {},
   "source": [
    "### 4.3 Embedding Search"
   ]
  },
  {
   "cell_type": "code",
   "execution_count": null,
   "metadata": {},
   "source": [
    "params = {\n",
    "    \"query\": \"healthy breakfast\",\n",
    "    \"method\": \"embedding\",\n",
    "    \"limit\": 5,\n",
    "    \"include_scores\": True\n",
    "}\n",
    "\n",
    "response = requests.get(f\"{BASE_URL}/search\", params=params)\n",
    "print(json.dumps(response.json(), indent=2))"
   ]
  }
 ],
 "metadata": {
  "kernelspec": {
   "display_name": "Python 3",
   "language": "python",
   "name": "python3"
  },
  "language_info": {
   "name": "python",
   "version": "3.9.0"
  }
 },
 "nbformat": 4,
 "nbformat_minor": 2
}